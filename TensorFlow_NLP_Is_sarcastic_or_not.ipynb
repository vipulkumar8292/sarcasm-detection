{
  "nbformat": 4,
  "nbformat_minor": 0,
  "metadata": {
    "colab": {
      "name": "TensorFlow NLP Is sarcastic or not.ipynb",
      "provenance": [],
      "collapsed_sections": []
    },
    "kernelspec": {
      "name": "python3",
      "display_name": "Python 3"
    }
  },
  "cells": [
    {
      "cell_type": "code",
      "metadata": {
        "id": "poipKHZPCsU4"
      },
      "source": [
        "import json"
      ],
      "execution_count": null,
      "outputs": []
    },
    {
      "cell_type": "code",
      "metadata": {
        "id": "S6doI5HbmeM_"
      },
      "source": [
        "import datetime"
      ],
      "execution_count": null,
      "outputs": []
    },
    {
      "cell_type": "code",
      "metadata": {
        "id": "udgbkjSMDBBe"
      },
      "source": [
        "import pandas as pd"
      ],
      "execution_count": null,
      "outputs": []
    },
    {
      "cell_type": "code",
      "metadata": {
        "id": "GsM0x6DEDldu"
      },
      "source": [
        "datastore = pd.read_json('Sarcasm.json', lines='True')"
      ],
      "execution_count": null,
      "outputs": []
    },
    {
      "cell_type": "code",
      "metadata": {
        "id": "92WszIWKWLop",
        "colab": {
          "base_uri": "https://localhost:8080/",
          "height": 197
        },
        "outputId": "c755d933-0d99-40e3-905e-e737418be902"
      },
      "source": [
        "datastore.head()"
      ],
      "execution_count": null,
      "outputs": [
        {
          "output_type": "execute_result",
          "data": {
            "text/html": [
              "<div>\n",
              "<style scoped>\n",
              "    .dataframe tbody tr th:only-of-type {\n",
              "        vertical-align: middle;\n",
              "    }\n",
              "\n",
              "    .dataframe tbody tr th {\n",
              "        vertical-align: top;\n",
              "    }\n",
              "\n",
              "    .dataframe thead th {\n",
              "        text-align: right;\n",
              "    }\n",
              "</style>\n",
              "<table border=\"1\" class=\"dataframe\">\n",
              "  <thead>\n",
              "    <tr style=\"text-align: right;\">\n",
              "      <th></th>\n",
              "      <th>article_link</th>\n",
              "      <th>headline</th>\n",
              "      <th>is_sarcastic</th>\n",
              "    </tr>\n",
              "  </thead>\n",
              "  <tbody>\n",
              "    <tr>\n",
              "      <th>0</th>\n",
              "      <td>https://www.huffingtonpost.com/entry/versace-b...</td>\n",
              "      <td>former versace store clerk sues over secret 'b...</td>\n",
              "      <td>0</td>\n",
              "    </tr>\n",
              "    <tr>\n",
              "      <th>1</th>\n",
              "      <td>https://www.huffingtonpost.com/entry/roseanne-...</td>\n",
              "      <td>the 'roseanne' revival catches up to our thorn...</td>\n",
              "      <td>0</td>\n",
              "    </tr>\n",
              "    <tr>\n",
              "      <th>2</th>\n",
              "      <td>https://local.theonion.com/mom-starting-to-fea...</td>\n",
              "      <td>mom starting to fear son's web series closest ...</td>\n",
              "      <td>1</td>\n",
              "    </tr>\n",
              "    <tr>\n",
              "      <th>3</th>\n",
              "      <td>https://politics.theonion.com/boehner-just-wan...</td>\n",
              "      <td>boehner just wants wife to listen, not come up...</td>\n",
              "      <td>1</td>\n",
              "    </tr>\n",
              "    <tr>\n",
              "      <th>4</th>\n",
              "      <td>https://www.huffingtonpost.com/entry/jk-rowlin...</td>\n",
              "      <td>j.k. rowling wishes snape happy birthday in th...</td>\n",
              "      <td>0</td>\n",
              "    </tr>\n",
              "  </tbody>\n",
              "</table>\n",
              "</div>"
            ],
            "text/plain": [
              "                                        article_link  ... is_sarcastic\n",
              "0  https://www.huffingtonpost.com/entry/versace-b...  ...            0\n",
              "1  https://www.huffingtonpost.com/entry/roseanne-...  ...            0\n",
              "2  https://local.theonion.com/mom-starting-to-fea...  ...            1\n",
              "3  https://politics.theonion.com/boehner-just-wan...  ...            1\n",
              "4  https://www.huffingtonpost.com/entry/jk-rowlin...  ...            0\n",
              "\n",
              "[5 rows x 3 columns]"
            ]
          },
          "metadata": {
            "tags": []
          },
          "execution_count": 11
        }
      ]
    },
    {
      "cell_type": "code",
      "metadata": {
        "colab": {
          "base_uri": "https://localhost:8080/"
        },
        "id": "RM-Iv-jZaKMK",
        "outputId": "0f1de2e3-d5e7-4bb0-e0a1-a29c886e62ea"
      },
      "source": [
        "datastore.shape"
      ],
      "execution_count": null,
      "outputs": [
        {
          "output_type": "execute_result",
          "data": {
            "text/plain": [
              "(26709, 3)"
            ]
          },
          "metadata": {
            "tags": []
          },
          "execution_count": 12
        }
      ]
    },
    {
      "cell_type": "code",
      "metadata": {
        "id": "cvtSNtW6WN9M"
      },
      "source": [
        "from tensorflow.keras.preprocessing.text import Tokenizer\n",
        "from tensorflow.keras.preprocessing.sequence import pad_sequences"
      ],
      "execution_count": null,
      "outputs": []
    },
    {
      "cell_type": "code",
      "metadata": {
        "id": "GZAJ2LiNWQN8"
      },
      "source": [
        "tokenizer = Tokenizer(oov_token=\"<oov>\")"
      ],
      "execution_count": null,
      "outputs": []
    },
    {
      "cell_type": "code",
      "metadata": {
        "id": "jXhtnc6LWSf0"
      },
      "source": [
        "tokenizer.fit_on_texts(datastore['headline'])"
      ],
      "execution_count": null,
      "outputs": []
    },
    {
      "cell_type": "code",
      "metadata": {
        "id": "KYvy63SnWUvU"
      },
      "source": [
        "word_index = tokenizer.word_index"
      ],
      "execution_count": null,
      "outputs": []
    },
    {
      "cell_type": "code",
      "metadata": {
        "id": "Hqp9FvBWWWwk"
      },
      "source": [
        "sequences = tokenizer.texts_to_sequences(datastore['headline'])"
      ],
      "execution_count": null,
      "outputs": []
    },
    {
      "cell_type": "code",
      "metadata": {
        "id": "d79KehMFWaQs"
      },
      "source": [
        "padded = pad_sequences(sequences, padding='post')"
      ],
      "execution_count": null,
      "outputs": []
    },
    {
      "cell_type": "code",
      "metadata": {
        "id": "3YFPVsPFWcG0",
        "colab": {
          "base_uri": "https://localhost:8080/"
        },
        "outputId": "6f5d985d-7ca6-41e1-e5aa-ba9e088421bf"
      },
      "source": [
        "print(padded[0])"
      ],
      "execution_count": null,
      "outputs": [
        {
          "output_type": "stream",
          "text": [
            "[  308 15115   679  3337  2298    48   382  2576 15116     6  2577  8434\n",
            "     0     0     0     0     0     0     0     0     0     0     0     0\n",
            "     0     0     0     0     0     0     0     0     0     0     0     0\n",
            "     0     0     0     0]\n"
          ],
          "name": "stdout"
        }
      ]
    },
    {
      "cell_type": "code",
      "metadata": {
        "id": "E8SLJe_yWels",
        "colab": {
          "base_uri": "https://localhost:8080/"
        },
        "outputId": "048cab4f-5ac8-491b-d9cf-6c7f34ac5690"
      },
      "source": [
        "print(padded.shape)"
      ],
      "execution_count": null,
      "outputs": [
        {
          "output_type": "stream",
          "text": [
            "(26709, 40)\n"
          ],
          "name": "stdout"
        }
      ]
    },
    {
      "cell_type": "code",
      "metadata": {
        "id": "4M_YFwzkWgy0"
      },
      "source": [
        "training_sentences = datastore['headline'][0:23000]\n",
        "testing_sentences = datastore['headline'][23000: ]"
      ],
      "execution_count": null,
      "outputs": []
    },
    {
      "cell_type": "code",
      "metadata": {
        "id": "Awx_UIBxWi6r"
      },
      "source": [
        "training_labels = datastore['is_sarcastic'][0:23000]\n",
        "testing_lables = datastore['is_sarcastic'][23000: ]"
      ],
      "execution_count": null,
      "outputs": []
    },
    {
      "cell_type": "code",
      "metadata": {
        "id": "WPAoyMHrWk0z"
      },
      "source": [
        "tokenizer = Tokenizer(num_words=23000, oov_token=\"<oov>\")\n",
        "tokenizer.fit_on_texts(training_sentences)"
      ],
      "execution_count": null,
      "outputs": []
    },
    {
      "cell_type": "code",
      "metadata": {
        "id": "uqq0nsNHWnsL"
      },
      "source": [
        "word_index = tokenizer.word_index"
      ],
      "execution_count": null,
      "outputs": []
    },
    {
      "cell_type": "code",
      "metadata": {
        "id": "47G710sUWp5r"
      },
      "source": [
        "training_sequences = tokenizer.texts_to_sequences(training_sentences)\n",
        "training_padded = pad_sequences(training_sequences, maxlen=100,\n",
        "                               padding='post', truncating='post')"
      ],
      "execution_count": null,
      "outputs": []
    },
    {
      "cell_type": "code",
      "metadata": {
        "id": "EnA7TMZkXwjD"
      },
      "source": [
        "testing_sequences = tokenizer.texts_to_sequences(testing_sentences)\n",
        "testing_padded = pad_sequences(testing_sequences, maxlen=100,\n",
        "                               padding='post', truncating='post')"
      ],
      "execution_count": null,
      "outputs": []
    },
    {
      "cell_type": "code",
      "metadata": {
        "id": "keniaWe9XzI7"
      },
      "source": [
        "import tensorflow as tf"
      ],
      "execution_count": null,
      "outputs": []
    },
    {
      "cell_type": "code",
      "metadata": {
        "id": "N-4fsksMX1mz"
      },
      "source": [
        "model = tf.keras.Sequential([\n",
        "    tf.keras.layers.Embedding(23000, 128, input_length=100),\n",
        "    tf.keras.layers.Flatten(),\n",
        "    tf.keras.layers.Dense(24, activation='relu'),\n",
        "    tf.keras.layers.Dense(1, activation='sigmoid')\n",
        "])\n",
        "model.compile(loss='binary_crossentropy', optimizer='adam', metrics=['accuracy'])"
      ],
      "execution_count": null,
      "outputs": []
    },
    {
      "cell_type": "code",
      "metadata": {
        "id": "XjHqhPX3fkQc"
      },
      "source": [
        "path = 'logs/fit' + datetime.datetime.now().strftime('%Y%m%d-%H%M%S')\n",
        "tensorboard_callback = tf.keras.callbacks.TensorBoard(log_dir=path,histogram_freq=1)"
      ],
      "execution_count": null,
      "outputs": []
    },
    {
      "cell_type": "code",
      "metadata": {
        "id": "mvzyR2dEX3kL",
        "colab": {
          "base_uri": "https://localhost:8080/"
        },
        "outputId": "badbe955-2657-44e5-ff32-3756a27e7134"
      },
      "source": [
        "history = model.fit(training_padded, training_labels, \n",
        "                    epochs=30, \n",
        "                    validation_data=(testing_padded, testing_lables),\n",
        "                    callbacks = [tensorboard_callback],\n",
        "                    verbose=2)"
      ],
      "execution_count": null,
      "outputs": [
        {
          "output_type": "stream",
          "text": [
            "Epoch 1/30\n",
            "719/719 - 28s - loss: 1.1610e-08 - accuracy: 1.0000 - val_loss: 1.1378 - val_accuracy: 0.8692\n",
            "Epoch 2/30\n",
            "719/719 - 28s - loss: 9.4192e-09 - accuracy: 1.0000 - val_loss: 1.1599 - val_accuracy: 0.8692\n",
            "Epoch 3/30\n",
            "719/719 - 28s - loss: 6.9003e-09 - accuracy: 1.0000 - val_loss: 1.1762 - val_accuracy: 0.8690\n",
            "Epoch 4/30\n",
            "719/719 - 28s - loss: 5.4285e-09 - accuracy: 1.0000 - val_loss: 1.1994 - val_accuracy: 0.8695\n",
            "Epoch 5/30\n",
            "719/719 - 28s - loss: 4.2203e-09 - accuracy: 1.0000 - val_loss: 1.2160 - val_accuracy: 0.8698\n",
            "Epoch 6/30\n",
            "719/719 - 28s - loss: 3.3284e-09 - accuracy: 1.0000 - val_loss: 1.2241 - val_accuracy: 0.8682\n",
            "Epoch 7/30\n",
            "719/719 - 29s - loss: 2.7575e-09 - accuracy: 1.0000 - val_loss: 1.2394 - val_accuracy: 0.8692\n",
            "Epoch 8/30\n",
            "719/719 - 29s - loss: 2.3496e-09 - accuracy: 1.0000 - val_loss: 1.2531 - val_accuracy: 0.8695\n",
            "Epoch 9/30\n",
            "719/719 - 29s - loss: 2.0562e-09 - accuracy: 1.0000 - val_loss: 1.2723 - val_accuracy: 0.8690\n",
            "Epoch 10/30\n",
            "719/719 - 29s - loss: 1.7830e-09 - accuracy: 1.0000 - val_loss: 1.2837 - val_accuracy: 0.8684\n",
            "Epoch 11/30\n",
            "719/719 - 29s - loss: 1.5867e-09 - accuracy: 1.0000 - val_loss: 1.2928 - val_accuracy: 0.8684\n",
            "Epoch 12/30\n",
            "719/719 - 29s - loss: 1.4540e-09 - accuracy: 1.0000 - val_loss: 1.3035 - val_accuracy: 0.8690\n",
            "Epoch 13/30\n",
            "719/719 - 29s - loss: 1.3384e-09 - accuracy: 1.0000 - val_loss: 1.3128 - val_accuracy: 0.8682\n",
            "Epoch 14/30\n",
            "719/719 - 29s - loss: 1.2663e-09 - accuracy: 1.0000 - val_loss: 1.3197 - val_accuracy: 0.8684\n",
            "Epoch 15/30\n",
            "719/719 - 30s - loss: 1.2126e-09 - accuracy: 1.0000 - val_loss: 1.3280 - val_accuracy: 0.8692\n",
            "Epoch 16/30\n",
            "719/719 - 29s - loss: 1.1517e-09 - accuracy: 1.0000 - val_loss: 1.3351 - val_accuracy: 0.8695\n",
            "Epoch 17/30\n",
            "719/719 - 29s - loss: 1.1386e-09 - accuracy: 1.0000 - val_loss: 1.3408 - val_accuracy: 0.8698\n",
            "Epoch 18/30\n",
            "719/719 - 31s - loss: 1.0972e-09 - accuracy: 1.0000 - val_loss: 1.3478 - val_accuracy: 0.8706\n",
            "Epoch 19/30\n",
            "719/719 - 29s - loss: 1.0776e-09 - accuracy: 1.0000 - val_loss: 1.3538 - val_accuracy: 0.8703\n",
            "Epoch 20/30\n",
            "719/719 - 29s - loss: 1.0588e-09 - accuracy: 1.0000 - val_loss: 1.3566 - val_accuracy: 0.8706\n",
            "Epoch 21/30\n",
            "719/719 - 29s - loss: 1.0687e-09 - accuracy: 1.0000 - val_loss: 1.3657 - val_accuracy: 0.8700\n",
            "Epoch 22/30\n",
            "719/719 - 29s - loss: 1.0543e-09 - accuracy: 1.0000 - val_loss: 1.3675 - val_accuracy: 0.8700\n",
            "Epoch 23/30\n",
            "719/719 - 29s - loss: 1.0532e-09 - accuracy: 1.0000 - val_loss: 1.3724 - val_accuracy: 0.8695\n",
            "Epoch 24/30\n",
            "719/719 - 29s - loss: 1.0526e-09 - accuracy: 1.0000 - val_loss: 1.3756 - val_accuracy: 0.8700\n",
            "Epoch 25/30\n",
            "719/719 - 29s - loss: 1.0177e-09 - accuracy: 1.0000 - val_loss: 1.3765 - val_accuracy: 0.8700\n",
            "Epoch 26/30\n",
            "719/719 - 30s - loss: 1.0192e-09 - accuracy: 1.0000 - val_loss: 1.3812 - val_accuracy: 0.8700\n",
            "Epoch 27/30\n",
            "719/719 - 32s - loss: 1.0322e-09 - accuracy: 1.0000 - val_loss: 1.3840 - val_accuracy: 0.8700\n",
            "Epoch 28/30\n",
            "719/719 - 33s - loss: 9.9189e-10 - accuracy: 1.0000 - val_loss: 1.3884 - val_accuracy: 0.8698\n",
            "Epoch 29/30\n",
            "719/719 - 33s - loss: 1.0207e-09 - accuracy: 1.0000 - val_loss: 1.3924 - val_accuracy: 0.8695\n",
            "Epoch 30/30\n",
            "719/719 - 32s - loss: 9.9447e-10 - accuracy: 1.0000 - val_loss: 1.3930 - val_accuracy: 0.8692\n"
          ],
          "name": "stdout"
        }
      ]
    },
    {
      "cell_type": "code",
      "metadata": {
        "id": "LlsA0S6sX67a",
        "colab": {
          "base_uri": "https://localhost:8080/",
          "height": 541
        },
        "outputId": "c2fefc01-fd96-4f67-e2bc-6e9fb2cbf83d"
      },
      "source": [
        "import matplotlib.pyplot as plt\n",
        " \n",
        " \n",
        "def plot_graphs(history, string):\n",
        "  plt.plot(history.history[string])\n",
        "  plt.plot(history.history['val_'+string])\n",
        "  plt.xlabel(\"Epochs\")\n",
        "  plt.ylabel(string)\n",
        "  plt.legend([string, 'val_'+string])\n",
        "  plt.show()\n",
        "  \n",
        "plot_graphs(history, \"accuracy\")\n",
        "plot_graphs(history, \"loss\")"
      ],
      "execution_count": null,
      "outputs": [
        {
          "output_type": "display_data",
          "data": {
            "image/png": "[encoded data removed]",
            "text/plain": [
              "<Figure size 432x288 with 1 Axes>"
            ]
          },
          "metadata": {
            "tags": [],
            "needs_background": "light"
          }
        },
        {
          "output_type": "display_data",
          "data": {
            "image/png": "[encoded data removed]",
            "text/plain": [
              "<Figure size 432x288 with 1 Axes>"
            ]
          },
          "metadata": {
            "tags": [],
            "needs_background": "light"
          }
        }
      ]
    },
    {
      "cell_type": "code",
      "metadata": {
        "id": "_V3Q1ihPZSCb",
        "colab": {
          "base_uri": "https://localhost:8080/"
        },
        "outputId": "1a3ab67e-42f5-4f26-92dc-47315a6859eb"
      },
      "source": [
        "sentence = [\"cows lose their jobs as milk prices drop.\"]\n",
        "sequences = tokenizer.texts_to_sequences(sentence)\n",
        "padded = pad_sequences(sequences, maxlen=100, padding='post', truncating='post')\n",
        "instance = model.predict(padded)\n",
        "print(instance)"
      ],
      "execution_count": null,
      "outputs": [
        {
          "output_type": "stream",
          "text": [
            "[[0.00023246]]\n"
          ],
          "name": "stdout"
        }
      ]
    },
    {
      "cell_type": "code",
      "metadata": {
        "id": "0qib8Izwi_xp"
      },
      "source": [
        "import numpy as np"
      ],
      "execution_count": null,
      "outputs": []
    },
    {
      "cell_type": "code",
      "metadata": {
        "colab": {
          "base_uri": "https://localhost:8080/"
        },
        "id": "cT_LeCvVlA6F",
        "outputId": "534882c5-d886-4f90-8393-61834027d50d"
      },
      "source": [
        "print(np.log(instance))"
      ],
      "execution_count": null,
      "outputs": [
        {
          "output_type": "stream",
          "text": [
            "[[-8.3668]]\n"
          ],
          "name": "stdout"
        }
      ]
    }
  ]
}